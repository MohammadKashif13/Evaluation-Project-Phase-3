{
 "cells": [
  {
   "cell_type": "markdown",
   "id": "38e61f58",
   "metadata": {},
   "source": [
    "                                    Zomato Restaurant\n",
    "Project Description:-\n",
    "Zomato Data Analysis is one of the most useful analysis for foodies who want to taste the best\n",
    "cuisines of every part of the world which lies in their budget. This analysis is also for those who\n",
    "want to find the value for money restaurants in various parts of the country for the cuisines.\n",
    "Additionally, this analysis caters the needs of people who are striving to get the best cuisine of\n",
    "the country and which locality of that country serves that cuisines with maximum number of\n",
    "restaurants.\n",
    "\n",
    "Data Storage:\n",
    "This problem statement contains two datasets- Zomato.csv and country_code.csv.\n",
    "Country_code.csv contains two variables:\n",
    " Country code\n",
    " Country name\n",
    "\n",
    "The collected data has been stored in the Comma Separated Value file Zomato.csv. Each\n",
    "restaurant in the dataset is uniquely identified by its Restaurant Id. Every Restaurant contains the following variables:\n",
    "• Restaurant Id: Unique id of every restaurant across various cities of the world\n",
    "• Restaurant Name: Name of the restaurant\n",
    "• Country Code: Country in which restaurant is located\n",
    "• City: City in which restaurant is located\n",
    "• Address: Address of the restaurant\n",
    "• Locality: Location in the city\n",
    "• Locality Verbose: Detailed description of the locality\n",
    "• Longitude: Longitude coordinate of the restaurant&#39;s location\n",
    "• Latitude: Latitude coordinate of the restaurant&#39;s location\n",
    "• Cuisines: Cuisines offered by the restaurant\n",
    "• Average Cost for two: Cost for two people in different currencies   \n",
    "• Currency: Currency of the country\n",
    "• Has Table booking: yes/no\n",
    "• Has Online delivery: yes/ no\n",
    "• Is delivering: yes/ no\n",
    "• Switch to order menu: yes/no\n",
    "• Price range: range of price of food\n",
    "• Aggregate Rating: Average rating out of 5\n",
    "• Rating color: depending upon the average rating color\n",
    "• Rating text: text on the basis of rating of rating\n",
    "• Votes: Number of ratings casted by people\n",
    "\n",
    "Problem statement : In this dataset predict 2 things –\n",
    "1) Average Cost for two\n",
    "2) Price range\n",
    "\n",
    "\n",
    "Hint : Use pandas methods to combine all the datasets and then start working on this project.\n",
    "\n",
    "Dataset Link-  \n",
    "https://github.com/FlipRoboTechnologies/ML_-Datasets/blob/main/Z_Restaurant/Country-Code.xlsx\n",
    "https://raw.githubusercontent.com/FlipRoboTechnologies/ML_-Datasets/main/Z_Restaurant/zomato.csv"
   ]
  },
  {
   "cell_type": "code",
   "execution_count": 5,
   "id": "f5db543a",
   "metadata": {},
   "outputs": [],
   "source": [
    "import pandas as pd\n",
    "import matplotlib.pyplot as plt\n",
    "import seaborn as sns\n",
    "from sklearn.preprocessing import LabelEncoder\n",
    "from sklearn.model_selection import train_test_split\n",
    "from sklearn.linear_model import LinearRegression\n",
    "from sklearn.ensemble import RandomForestClassifier\n",
    "from sklearn.metrics import mean_squared_error, accuracy_score"
   ]
  },
  {
   "cell_type": "code",
   "execution_count": null,
   "id": "7509966b",
   "metadata": {},
   "outputs": [],
   "source": [
    "zomato_url = \"https://raw.githubusercontent.com/FlipRoboTechnologies/ML_-Datasets/main/Z_Restaurant/zomato.csv\"\n",
    "country_code_url = \"https://github.com/FlipRoboTechnologies/ML_-Datasets/blob/main/Z_Restaurant/Country-Code.xlsx?raw=true\""
   ]
  },
  {
   "cell_type": "code",
   "execution_count": null,
   "id": "03b24d16",
   "metadata": {},
   "outputs": [],
   "source": [
    "zomato_df = pd.read_csv(zomato_url)\n",
    "country_df = pd.read_excel(country_code_url)"
   ]
  },
  {
   "cell_type": "code",
   "execution_count": null,
   "id": "157fbc9c",
   "metadata": {},
   "outputs": [],
   "source": [
    "print(\"Zomato Dataset:\")\n",
    "print(zomato_df.info())\n",
    "print(zomato_df.head())"
   ]
  },
  {
   "cell_type": "code",
   "execution_count": null,
   "id": "7fcc4c0b",
   "metadata": {},
   "outputs": [],
   "source": [
    "print(\"\\nCountry Code Dataset:\")\n",
    "print(country_df.info())\n",
    "print(country_df.head())"
   ]
  },
  {
   "cell_type": "code",
   "execution_count": null,
   "id": "61e4aa85",
   "metadata": {},
   "outputs": [],
   "source": [
    "merged_df = pd.merge(zomato_df, country_df, how='left', on='Country Code')\n",
    "\n",
    "print(\"\\nMerged Dataset:\")\n",
    "print(merged_df.info())\n",
    "print(merged_df.head())\n",
    "\n",
    "print(\"\\nMissing Values:\")\n",
    "print(merged_df.isnull().sum())"
   ]
  },
  {
   "cell_type": "code",
   "execution_count": null,
   "id": "d3d577f7",
   "metadata": {},
   "outputs": [],
   "source": [
    "merged_df.fillna('', inplace=True)\n",
    "\n",
    "print(\"\\nMissing Values after filling\")\n",
    "print(merged_df.isnull().sum())"
   ]
  },
  {
   "cell_type": "code",
   "execution_count": null,
   "id": "99899fe7",
   "metadata": {},
   "outputs": [],
   "source": [
    "plt.figure(figsize=(10, 6))\n",
    "sns.histplot(merged_df['Average Cost for two'], bins=30, kde=True)\n",
    "plt.title('Distribution of Average Cost for Two')\n",
    "plt.xlabel('Average Cost for Two')\n",
    "plt.ylabel('Frequency')\n",
    "plt.show()"
   ]
  },
  {
   "cell_type": "code",
   "execution_count": null,
   "id": "dcea62a1",
   "metadata": {},
   "outputs": [],
   "source": [
    "plt.figure(figsize=(10, 6))\n",
    "sns.countplot(x='Price range', data=merged_df)\n",
    "plt.title('Distribution of Price Range')\n",
    "plt.xlabel('Price Range')\n",
    "plt.ylabel('Count')\n",
    "plt.show()"
   ]
  },
  {
   "cell_type": "code",
   "execution_count": null,
   "id": "412113a8",
   "metadata": {},
   "outputs": [],
   "source": [
    "plt.figure(figsize=(12, 8))\n",
    "sns.heatmap(merged_df.corr(), annot=True, cmap='coolwarm')\n",
    "plt.title('Correlation Heatmap')\n",
    "plt.show()"
   ]
  },
  {
   "cell_type": "code",
   "execution_count": null,
   "id": "4908b9c7",
   "metadata": {},
   "outputs": [],
   "source": [
    "plt.figure(figsize=(15, 10))\n",
    "sns.boxplot(x='Country', y='Average Cost for two', data=merged_df)\n",
    "plt.title('Average Cost for Two by Country')\n",
    "plt.xticks(rotation=90)\n",
    "plt.show()"
   ]
  },
  {
   "cell_type": "code",
   "execution_count": null,
   "id": "f31dc84a",
   "metadata": {},
   "outputs": [],
   "source": [
    "le = LabelEncoder()\n",
    "\n",
    "merged_df['Has Table booking'] = le.fit_transform(merged_df['Has Table booking'])\n",
    "merged_df['Has Online delivery'] = le.fit_transform(merged_df['Has Online delivery'])\n",
    "merged_df['Is delivering'] = le.fit_transform(merged_df['Is delivering'])\n",
    "merged_df['Switch to order menu'] = le.fit_transform(merged_df['Switch to order menu'])\n",
    "merged_df['Rating color'] = le.fit_transform(merged_df['Rating color'])\n",
    "merged_df['Rating text'] = le.fit_transform(merged_df['Rating text'])\n",
    "merged_df['Country'] = le.fit_transform(merged_df['Country'])\n",
    "merged_df['Currency'] = le.fit_transform(merged_df['Currency'])\n",
    "\n",
    "print(merged_df.head())"
   ]
  },
  {
   "cell_type": "code",
   "execution_count": null,
   "id": "a77f00b1",
   "metadata": {},
   "outputs": [],
   "source": [
    "X_cost = merged_df[['Country', 'Longitude', 'Latitude', 'Cuisines', 'Has Table booking',\n",
    "                   'Has Online delivery', 'Is delivering', 'Switch to order menu', 'Price range', 'Aggregate Rating',\n",
    "                   'Votes']]\n",
    "y_cost = merged_df['Average Cost for two']\n",
    "\n",
    "X_train_cost, X_test_cost, y_train_cost, y_test_cost = train_test_split(X_cost, y_cost, test_size=0.2, random_state=42)\n",
    "\n",
    "lr_model = LinearRegression()\n",
    "lr_model.fit(X_train_cost, y_train_cost)\n",
    "\n",
    "y_pred_cost = lr_model.predict(X_test_cost)\n",
    "mse_cost = mean_squared_error(y_test_cost, y_pred_cost)\n",
    "print(f'Mean Squared Error for Average Cost for Two: {mse_cost}')"
   ]
  },
  {
   "cell_type": "code",
   "execution_count": null,
   "id": "5985db5b",
   "metadata": {},
   "outputs": [],
   "source": [
    "X_price = merged_df[['Country', 'Longitude', 'Latitude', 'Cuisines', 'Has Table booking', \n",
    "                     'Has Online delivery', 'Is delivering', 'Switch to order menu', 'Aggregate Rating', 'Votes', \n",
    "                     'Average Cost for two']]\n",
    "y_price = merged_df['Price range']\n",
    "\n",
    "X_train_price, X_test_price, y_train_price, y_test_price = train_test_split(X_price, y_price, test_size=0.2, random_state=42)\n",
    "\n",
    "rf_model = RandomForestClassifier()\n",
    "rf_model.fit(X_train_price, y_train_price)\n",
    "\n",
    "y_pred_price = rf_model.predict(X_test_price)\n",
    "accuracy_price = accuracy_score(y_test_price, y_pred_price)\n",
    "print(f'Accuracy for Price Range: {accuracy_price}')"
   ]
  },
  {
   "cell_type": "code",
   "execution_count": null,
   "id": "9129945f",
   "metadata": {},
   "outputs": [],
   "source": []
  },
  {
   "cell_type": "code",
   "execution_count": null,
   "id": "a8be792e",
   "metadata": {},
   "outputs": [],
   "source": []
  }
 ],
 "metadata": {
  "kernelspec": {
   "display_name": "Python 3 (ipykernel)",
   "language": "python",
   "name": "python3"
  },
  "language_info": {
   "codemirror_mode": {
    "name": "ipython",
    "version": 3
   },
   "file_extension": ".py",
   "mimetype": "text/x-python",
   "name": "python",
   "nbconvert_exporter": "python",
   "pygments_lexer": "ipython3",
   "version": "3.11.3"
  }
 },
 "nbformat": 4,
 "nbformat_minor": 5
}
